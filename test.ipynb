{
 "cells": [
  {
   "metadata": {},
   "cell_type": "raw",
   "source": "import tensor",
   "id": "404182f54e386c46"
  },
  {
   "metadata": {
    "ExecuteTime": {
     "end_time": "2024-10-23T11:40:36.740456Z",
     "start_time": "2024-10-23T11:40:34.838339Z"
    }
   },
   "cell_type": "code",
   "source": [
    "import torch\n",
    "\n",
    "# 创建一个形状为 [2, 3, 4] 的三维张量\n",
    "tensor = torch.rand(2, 3, 4)\n",
    "\n",
    "print(tensor)\n",
    "print(tensor.size())  # 输出张量的形状\n"
   ],
   "id": "2c6726991c12533b",
   "outputs": [
    {
     "name": "stdout",
     "output_type": "stream",
     "text": [
      "tensor([[[0.2217, 0.1305, 0.3020, 0.5603],\n",
      "         [0.4905, 0.4496, 0.0331, 0.2749],\n",
      "         [0.7431, 0.9326, 0.6310, 0.0940]],\n",
      "\n",
      "        [[0.9649, 0.8783, 0.1446, 0.9741],\n",
      "         [0.3930, 0.0588, 0.9950, 0.2822],\n",
      "         [0.0032, 0.1763, 0.8156, 0.4153]]])\n",
      "torch.Size([2, 3, 4])\n"
     ]
    }
   ],
   "execution_count": 1
  },
  {
   "metadata": {
    "ExecuteTime": {
     "end_time": "2024-10-23T11:42:41.741533Z",
     "start_time": "2024-10-23T11:42:41.721875Z"
    }
   },
   "cell_type": "code",
   "source": "tensor[[0, 1]] = tensor[[1, 0]] ",
   "id": "fba9efdc945e3022",
   "outputs": [],
   "execution_count": 2
  },
  {
   "metadata": {
    "ExecuteTime": {
     "end_time": "2024-10-23T11:42:43.579072Z",
     "start_time": "2024-10-23T11:42:43.570056Z"
    }
   },
   "cell_type": "code",
   "source": "print(tensor)",
   "id": "ee8d21fb0d3fde1b",
   "outputs": [
    {
     "name": "stdout",
     "output_type": "stream",
     "text": [
      "tensor([[[0.9649, 0.8783, 0.1446, 0.9741],\n",
      "         [0.3930, 0.0588, 0.9950, 0.2822],\n",
      "         [0.0032, 0.1763, 0.8156, 0.4153]],\n",
      "\n",
      "        [[0.2217, 0.1305, 0.3020, 0.5603],\n",
      "         [0.4905, 0.4496, 0.0331, 0.2749],\n",
      "         [0.7431, 0.9326, 0.6310, 0.0940]]])\n"
     ]
    }
   ],
   "execution_count": 3
  },
  {
   "metadata": {
    "ExecuteTime": {
     "end_time": "2024-10-23T12:35:39.881225Z",
     "start_time": "2024-10-23T12:35:39.865317Z"
    }
   },
   "cell_type": "code",
   "source": "tensor[0]",
   "id": "f1c2ed0488bf752a",
   "outputs": [
    {
     "data": {
      "text/plain": [
       "tensor([[0.9649, 0.8783, 0.1446, 0.9741],\n",
       "        [0.3930, 0.0588, 0.9950, 0.2822],\n",
       "        [0.0032, 0.1763, 0.8156, 0.4153]])"
      ]
     },
     "execution_count": 4,
     "metadata": {},
     "output_type": "execute_result"
    }
   ],
   "execution_count": 4
  },
  {
   "metadata": {
    "ExecuteTime": {
     "end_time": "2024-10-23T12:35:45.381050Z",
     "start_time": "2024-10-23T12:35:45.371273Z"
    }
   },
   "cell_type": "code",
   "source": "tensor[1]",
   "id": "501961d9d59a3920",
   "outputs": [
    {
     "data": {
      "text/plain": [
       "tensor([[0.2217, 0.1305, 0.3020, 0.5603],\n",
       "        [0.4905, 0.4496, 0.0331, 0.2749],\n",
       "        [0.7431, 0.9326, 0.6310, 0.0940]])"
      ]
     },
     "execution_count": 5,
     "metadata": {},
     "output_type": "execute_result"
    }
   ],
   "execution_count": 5
  },
  {
   "metadata": {},
   "cell_type": "code",
   "outputs": [],
   "execution_count": null,
   "source": [
    "                if index_block == 12:\n",
    "                    encoder_hidden_states, hidden_states = torch.utils.checkpoint.checkpoint(\n",
    "                        create_custom_forward(block),\n",
    "                        hidden_states,\n",
    "                        encoder_hidden_states[1],\n",
    "                        temb,\n",
    "                        image_rotary_emb,\n",
    "                        **ckpt_kwargs,\n",
    "                    )\n",
    "                else:\n",
    "                    encoder_hidden_states, hidden_states = torch.utils.checkpoint.checkpoint(\n",
    "                        create_custom_forward(block),\n",
    "                        hidden_states,\n",
    "                        encoder_hidden_states[0],\n",
    "                        temb,\n",
    "                        image_rotary_emb,\n",
    "                        **ckpt_kwargs,\n",
    "                    )\n",
    "            else:\n",
    "                if index_block == 12:\n",
    "                    encoder_hidden_states, hidden_states = block(\n",
    "                        hidden_states=hidden_states,\n",
    "                        encoder_hidden_states=encoder_hidden_states[1],\n",
    "                        temb=temb,\n",
    "                        image_rotary_emb=image_rotary_emb,\n",
    "                        joint_attention_kwargs=joint_attention_kwargs,\n",
    "                    )\n",
    "                else:\n",
    "                    encoder_hidden_states, hidden_states = block(\n",
    "                        hidden_states=hidden_states,\n",
    "                        encoder_hidden_states=encoder_hidden_states[0],\n",
    "                        temb=temb,\n",
    "                        image_rotary_emb=image_rotary_emb,\n",
    "                        joint_attention_kwargs=joint_attention_kwargs,\n",
    "                    )"
   ],
   "id": "4d0b8caa3fb31a5b"
  }
 ],
 "metadata": {
  "kernelspec": {
   "display_name": "Python 3",
   "language": "python",
   "name": "python3"
  },
  "language_info": {
   "codemirror_mode": {
    "name": "ipython",
    "version": 2
   },
   "file_extension": ".py",
   "mimetype": "text/x-python",
   "name": "python",
   "nbconvert_exporter": "python",
   "pygments_lexer": "ipython2",
   "version": "2.7.6"
  }
 },
 "nbformat": 4,
 "nbformat_minor": 5
}
